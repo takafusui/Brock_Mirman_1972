{
 "cells": [
  {
   "cell_type": "markdown",
   "metadata": {},
   "source": [
    "In this notebook, we aim to solve the following rational expectation model, which was originally provided by Brock and Mirman (1972).\n",
    "$$\n",
    "\\begin{align}\n",
    "&\\max_{\\left\\{c_{t}\\right\\}_{t=0}^{\\infty}} \\sum_{t=0}^{\\infty} \\beta^{t} \\ln\\left(c_{t}\\right) \\\\\n",
    "\\text{s.t.} \\quad & k_{t+1} + c_{t} \\leq Ak_{t}^\\alpha\n",
    "\\end{align}\n",
    "$$\n",
    "As is well known, this particular problem has an analytical solution:\n",
    "$$\n",
    "\\begin{align}\n",
    "k_{t+1} = \\alpha \\beta A k_{t}^{\\alpha}\n",
    "\\end{align}\n",
    "$$\n",
    "At first, we want to check the optimal growth path with the above policy funtion."
   ]
  },
  {
   "cell_type": "code",
   "execution_count": 2,
   "metadata": {},
   "outputs": [
    {
     "name": "stdout",
     "output_type": "stream",
     "text": [
      "Version of tensorflow is 1.13.1\n"
     ]
    }
   ],
   "source": [
    "import numpy as np\n",
    "import tensorflow as tf\n",
    "import matplotlib.pyplot as plt\n",
    "\n",
    "%matplotlib inline\n",
    "print(\"Version of tensorflow is {}\".format(tf.__version__))"
   ]
  },
  {
   "cell_type": "code",
   "execution_count": 3,
   "metadata": {},
   "outputs": [],
   "source": [
    "A = 1  # Technology level\n",
    "alpha = 0.3\n",
    "beta = 0.95\n",
    "\n",
    "def k_plus_analytic(k, alpha, beta, A):\n",
    "    # Return the optimal capital stock in the next period\n",
    "    return alpha * beta * A * k**alpha"
   ]
  },
  {
   "cell_type": "code",
   "execution_count": 6,
   "metadata": {},
   "outputs": [
    {
     "name": "stderr",
     "output_type": "stream",
     "text": [
      "/Users/takafumi/.pyenv/versions/anaconda3-5.3.0/envs/tensor1/lib/python3.7/site-packages/matplotlib/mathtext.py:2542: SyntaxWarning: Exception creating Regex for oneOf, building MatchFirst\n",
      "  p.subsuperop    <<= oneOf([\"_\", \"^\"])\n"
     ]
    },
    {
     "data": {
      "image/png": "[encoded data removed]",
      "text/plain": [
       "<Figure size 432x288 with 1 Axes>"
      ]
     },
     "metadata": {
      "needs_background": "light"
     },
     "output_type": "display_data"
    }
   ],
   "source": [
    "kbeg, kend, ksize = 1e-3, 3, 250\n",
    "kgrid = np.linspace(kbeg, kend, ksize)\n",
    "\n",
    "k_plus = k_plus_analytic(kgrid, alpha, beta, A)\n",
    "\n",
    "plt.plot(kgrid, k_plus)\n",
    "plt.xlim(0, kend)\n",
    "plt.ylim(0, None)\n",
    "plt.xlabel(r\"$k_{t}$\")\n",
    "plt.ylabel(r\"$k_{t+1}$\")\n",
    "plt.show()"
   ]
  },
  {
   "cell_type": "markdown",
   "metadata": {},
   "source": [
    "Now, we aim to solve the Brock and Mirman (1972) by using deep learning."
   ]
  },
  {
   "cell_type": "code",
   "execution_count": null,
   "metadata": {},
   "outputs": [],
   "source": []
  }
 ],
 "metadata": {
  "kernelspec": {
   "display_name": "Python 3",
   "language": "python",
   "name": "python3"
  },
  "language_info": {
   "codemirror_mode": {
    "name": "ipython",
    "version": 3
   },
   "file_extension": ".py",
   "mimetype": "text/x-python",
   "name": "python",
   "nbconvert_exporter": "python",
   "pygments_lexer": "ipython3",
   "version": "3.7.5"
  }
 },
 "nbformat": 4,
 "nbformat_minor": 2
}

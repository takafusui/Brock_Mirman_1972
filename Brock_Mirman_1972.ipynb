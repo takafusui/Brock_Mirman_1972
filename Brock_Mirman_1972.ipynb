{
 "cells": [
  {
   "cell_type": "markdown",
   "metadata": {},
   "source": [
    "# Introduction\n",
    "In this notebook, we are going to solve a simple optimal growth model with one agent. The model is a simplified version of Brock and Mirman (1972). The planner aims to maximize his time-separable life time utility \\eqref{eq:obj} subject to his budget constraint \\eqref{eq:const}:\n",
    "$$\n",
    "\\begin{align}\n",
    "&\\max_{\\left\\{c_{t}\\right\\}_{t=0}^{\\infty}} \\sum_{t=0}^{\\infty} \\beta^{t} \\ln\\left(c_{t}\\right) \\label{eq:obj}\\\\\n",
    "\\text{s.t.} \\quad & k_{t+1} + c_{t} \\leq Ak_{t}^\\alpha \\label{eq:const}\n",
    "\\end{align}\n",
    "$$\n",
    "As is well known, this particular problem has an analytical solution:\n",
    "$$\n",
    "\\begin{align}\n",
    "k_{t+1} = \\beta \\alpha A k_{t}^{\\alpha} \\label{eq:analytic_policy}\n",
    "\\end{align}\n",
    "$$\n",
    "\n",
    "The aim of this notebook is to approximate the optimal policy function, given in \\eqref{eq:analytic_policy}, by using deep neural net (Azinovic et.al (2019))."
   ]
  },
  {
   "cell_type": "markdown",
   "metadata": {},
   "source": [
    "First, we need to import necessary python libraries and tensorflow:"
   ]
  },
  {
   "cell_type": "code",
   "execution_count": 15,
   "metadata": {},
   "outputs": [
    {
     "name": "stdout",
     "output_type": "stream",
     "text": [
      "Version of tensorflow is 1.13.1\n"
     ]
    }
   ],
   "source": [
    "# Import necessary liblaries\n",
    "import numpy as np\n",
    "import math\n",
    "import tensorflow as tf\n",
    "import matplotlib.pyplot as plt\n",
    "from matplotlib import rc\n",
    "\n",
    "# Use TeX font\n",
    "rc('font', **{'family': 'sans-serif', 'serif': ['Helvetica']})\n",
    "rc('text', usetex=True)\n",
    "plt.rcParams[\"font.size\"] = 15\n",
    "\n",
    "%matplotlib inline\n",
    "print(\"Version of tensorflow is {}\".format(tf.__version__))"
   ]
  },
  {
   "cell_type": "markdown",
   "metadata": {},
   "source": [
    "We define the following economic parameters:"
   ]
  },
  {
   "cell_type": "code",
   "execution_count": 16,
   "metadata": {},
   "outputs": [],
   "source": [
    "A = 1  # Technology level\n",
    "alpha = 0.35  # Capital share in the Cobb-Douglas production function\n",
    "beta = 0.98  # Discount factor"
   ]
  },
  {
   "cell_type": "markdown",
   "metadata": {},
   "source": [
    "As mentioned, the optimal growth model has a closed form solution and based on this, we can compute the stationary point (or steady state) as well as the optimal consumption policy:"
   ]
  },
  {
   "cell_type": "code",
   "execution_count": 17,
   "metadata": {},
   "outputs": [
    {
     "name": "stdout",
     "output_type": "stream",
     "text": [
      "Stationary point is 0.192783\n"
     ]
    }
   ],
   "source": [
    "def k_compute_infty(alpha, beta, A):\n",
    "    \"\"\" Return the stationary point (or steady state) \"\"\"\n",
    "    return (1 / (beta * alpha * A))**(1/(alpha - 1))\n",
    "\n",
    "\n",
    "k_infty = k_compute_infty(alpha, beta, A)\n",
    "print(\"Stationary point is {:5f}\".format(k_infty))\n",
    "\n",
    "\n",
    "def k_plus_analytic(k, alpha, beta, A):\n",
    "    \"\"\" Analytical solution\n",
    "    Return the optimal capital stock in the next period \"\"\"\n",
    "    return alpha * beta * A * k**alpha\n",
    "\n",
    "\n",
    "def consum(k, kplus, alpha, beta, A):\n",
    "    \"\"\" Return the optimal consumption policy \"\"\"\n",
    "    return A*k**alpha - kplus"
   ]
  },
  {
   "cell_type": "markdown",
   "metadata": {},
   "source": [
    "# Deep neural net\n",
    "## Hyper parameters\n",
    "\n",
    "Hyper parameter defines the architecture of deep neural net. Following Azinovic et al. (2019), we adopt the following hyper parameters:  \n",
    "Layer 1: the input layer, 1 neuron corresponding to the capital stock today  \n",
    "Layer 2: the first hidden layer, 50 neurons and is activated by Relu  \n",
    "Layer 3: the second hidden layer, 50 neurons and is activated by Relu  \n",
    "Layer 4: the output layer, 2 neurons corresponding to the capital stock tomorrow and the Lagrange multiplier"
   ]
  },
  {
   "cell_type": "code",
   "execution_count": 18,
   "metadata": {},
   "outputs": [
    {
     "name": "stdout",
     "output_type": "stream",
     "text": [
      "Dimensions of each layer are [1, 100, 100, 2]\n"
     ]
    }
   ],
   "source": [
    "# Layer setting\n",
    "num_input = 1\n",
    "num_hidden1 = 100\n",
    "num_hidden2 = 100\n",
    "num_output = 2\n",
    "layers_dim = [num_input, num_hidden1, num_hidden2, num_output]\n",
    "print(\"Dimensions of each layer are {}\".format(layers_dim))\n",
    "\n",
    "learning_rate = 0.001  # Leargning rate\n",
    "t_length = 10000  # Simulation length\n",
    "\n",
    "# Number of episodes, epochs and minibatch size\n",
    "num_episodes = 50\n",
    "num_epochs = 10\n",
    "minibatch_size = 64"
   ]
  },
  {
   "cell_type": "markdown",
   "metadata": {},
   "source": [
    "## Utility functions\n",
    "We define some utility functions, which facilitate our subsequent implementations:"
   ]
  },
  {
   "cell_type": "code",
   "execution_count": 19,
   "metadata": {},
   "outputs": [],
   "source": [
    "def create_placeholders(num_x):\n",
    "    \"\"\" Create the placeholders.\n",
    "    The column dimention is None that represents the length of the simulated\n",
    "    path.\"\"\"\n",
    "    X = tf.placeholder(tf.float32, shape=[num_x, None], name='X')\n",
    "    return X\n",
    "\n",
    "\n",
    "def initialize_parameters(layers_dim):\n",
    "    \"\"\" Initialize parameters to build a neural network\n",
    "    1: [num_input, None] -> [num_hidden1, None]\n",
    "    2: [num_hidden1, None] -> [num_hidden2, None]\n",
    "    3: [num_hidden2, None] -> [num_output, None] \"\"\"\n",
    "\n",
    "    W1 = tf.get_variable('W1', [layers_dim[1], layers_dim[0]], tf.float32,\n",
    "                         tf.contrib.layers.xavier_initializer())\n",
    "    b1 = tf.get_variable('b1', [layers_dim[1], 1], tf.float32,\n",
    "                         tf.zeros_initializer())\n",
    "    W2 = tf.get_variable('W2', [layers_dim[2], layers_dim[1]], tf.float32,\n",
    "                         tf.contrib.layers.xavier_initializer())\n",
    "    b2 = tf.get_variable('b2', [layers_dim[2], 1], tf.float32,\n",
    "                         tf.zeros_initializer())\n",
    "    W3 = tf.get_variable('W3', [layers_dim[3], layers_dim[2]], tf.float32,\n",
    "                         tf.contrib.layers.xavier_initializer())\n",
    "    b3 = tf.get_variable('b3', [layers_dim[3], 1], tf.float32,\n",
    "                         tf.zeros_initializer())\n",
    "\n",
    "    parameters = {'W1': W1, 'b1': b1, 'W2': W2, 'b2': b2, 'W3': W3, 'b3': b3}\n",
    "    return parameters\n",
    "\n",
    "\n",
    "def forward_propagation(X, parameters):\n",
    "    \"\"\" Implement the forward propagation for the model\n",
    "    Linear -> Relu -> Linear -> Relu -> Linear -> Softplus \"\"\"\n",
    "\n",
    "    W1 = parameters['W1']\n",
    "    b1 = parameters['b1']\n",
    "    W2 = parameters['W2']\n",
    "    b2 = parameters['b2']\n",
    "    W3 = parameters['W3']\n",
    "    b3 = parameters['b3']\n",
    "\n",
    "    Z1 = tf.add(tf.matmul(W1, X), b1)  # Linear combination\n",
    "    A1 = tf.nn.relu(Z1)  # Activate with Relu\n",
    "    Z2 = tf.add(tf.matmul(W2, A1), b2)  # Linear combination\n",
    "    A2 = tf.nn.relu(Z2)  # Activate with Relu\n",
    "    Z3 = tf.add(tf.matmul(W3, A2), b3)  # Linear combination\n",
    "    A3 = tf.nn.softplus(Z3)  # Activate with Relu\n",
    "\n",
    "    return A3"
   ]
  },
  {
   "cell_type": "markdown",
   "metadata": {},
   "source": [
    "## Mini-batches\n",
    "We use the mini-batch gradient descent to get a gradient update at a lower computational cost. We randomly divide the training data into some subsets, which are refer to as a mini-batch. In each epoch, all of training data points are allocated to a mini-batch and are visited exactly one time:"
   ]
  },
  {
   "cell_type": "code",
   "execution_count": 20,
   "metadata": {},
   "outputs": [],
   "source": [
    "def random_mini_batches_X(X, mini_batch_size=64, seed=0):\n",
    "    \"\"\"\n",
    "    Creates a list of random minibatches from (X, Y)\n",
    "\n",
    "    Arguments:\n",
    "    X -- input data, of shape (input size, number of examples)\n",
    "    mini_batch_size - size of the mini-batches, integer\n",
    "    seed -- this is only for the purpose of grading, so that you're\n",
    "    \"random minibatches are the same as ours.\n",
    "\n",
    "    Returns:\n",
    "    mini_batches -- list of synchronous (mini_batch_X, mini_batch_Y)\n",
    "    \"\"\"\n",
    "\n",
    "    m = X.shape[1]  # number of training examples\n",
    "    mini_batches = []\n",
    "    np.random.seed(seed)\n",
    "\n",
    "    # Step 1: Shuffle X\n",
    "    permutation = list(np.random.permutation(m))\n",
    "    shuffled_X = X[:, permutation]\n",
    "\n",
    "    # Step 2: Partition shuffled_X. Minus the end case.\n",
    "    # number of mini batches of size mini_batch_size in your partitionning\n",
    "    num_complete_minibatches = math.floor(m / mini_batch_size)\n",
    "    for k in range(0, num_complete_minibatches):\n",
    "        mini_batch_X = shuffled_X[:, k * mini_batch_size:k * mini_batch_size +\n",
    "                                  mini_batch_size]\n",
    "        mini_batch = (mini_batch_X)\n",
    "        mini_batches.append(mini_batch)\n",
    "\n",
    "    # Handling the end case (last mini-batch < mini_batch_size)\n",
    "    if m % mini_batch_size != 0:\n",
    "        mini_batch_X = shuffled_X[:, num_complete_minibatches *\n",
    "                                  mini_batch_size:m]\n",
    "        mini_batch = (mini_batch_X)\n",
    "        mini_batches.append(mini_batch)\n",
    "\n",
    "    return mini_batches"
   ]
  },
  {
   "cell_type": "markdown",
   "metadata": {},
   "source": [
    "## Cost function\n",
    "\n",
    "Now we aim to solve the Brock and Mirman (1972) by using deep learning following Azinovic et al. (2019). When we solve the above model for the first-order condition, we can derive the following two equilibrium conditions. Cost function is the mean squared sum of the relative Euler error and the approximation error in the KKT condition:\n",
    "$$\n",
    "\\begin{align}\n",
    "& \\lambda_{t} - \\beta \\lambda_{t+1} A \\alpha k_{t+1}^{\\alpha - 1} = 0 \\label{eq:REE}\\\\\n",
    "& \\left[A k_{t}^{\\alpha} - k_{t+1} - \\frac{1}{\\lambda_{t}}\\right]\\lambda_{t} = 0 \\label{eq:KKT}\n",
    "\\end{align}\n",
    "$$"
   ]
  },
  {
   "cell_type": "code",
   "execution_count": 21,
   "metadata": {},
   "outputs": [],
   "source": [
    "def compute_cost(X, A3, parameters, beta, A, alpha):\n",
    "    \"\"\" Compute the mean squared error\n",
    "    errREE: relative Euler error\n",
    "    errKKT: error in the KKT complementarity equation \"\"\"\n",
    "\n",
    "    # Retlieve the current capital state\n",
    "    k = X\n",
    "\n",
    "    # Retlieve the simulation path\n",
    "    # Need to have a dimension of [num_x, None] to have compativility with the\n",
    "    # placeholder X\n",
    "    k_plus = tf.expand_dims(A3[0, :], axis=0)\n",
    "    lambd = tf.expand_dims(A3[1, :], axis=0)\n",
    "\n",
    "    # Retlieve the optimal actions in the next period\n",
    "    action_plus = forward_propagation(k_plus, parameters)\n",
    "    # Need to have a dimension of [num_x, None] to have compativility with the\n",
    "    # placeholder X\n",
    "    k_plusplus = tf.expand_dims(action_plus[0, :], axis=0)\n",
    "    lambd_plus = tf.expand_dims(action_plus[1, :], axis=0)\n",
    "\n",
    "    # Define the relative Euler error\n",
    "    errREE = (beta * lambd_plus * A * alpha * k_plus**(alpha-1)) / lambd - 1\n",
    "\n",
    "    # Define the KKT error\n",
    "    errKKT = lambd * (A * k**alpha - k_plus - 1/lambd)\n",
    "\n",
    "    # Stack two approximation errors\n",
    "    err = tf.stack([errREE[0], errKKT[0]])\n",
    "\n",
    "    # When the two constraints are exactly binding\n",
    "    err_optimal = tf.zeros_like(err)\n",
    "\n",
    "    # Define the cost function\n",
    "    cost = tf.losses.mean_squared_error(err, err_optimal)\n",
    "\n",
    "    return cost\n"
   ]
  },
  {
   "cell_type": "markdown",
   "metadata": {},
   "source": [
    "## Define the model with the given training data\n",
    "\n",
    "In this section, we define the model where we train the deep neural net with the give training data points."
   ]
  },
  {
   "cell_type": "code",
   "execution_count": 25,
   "metadata": {},
   "outputs": [],
   "source": [
    "def model(train_X, layers_dim, learning_rate, num_epochs, minibatch_size,\n",
    "          print_span, print_cost=True):\n",
    "    \"\"\" Train DNN with the provided training data \"\"\"\n",
    "\n",
    "    tf.reset_default_graph()  # Reset DNN\n",
    "    (num_input, t_length) = train_X.shape\n",
    "    costs = []  # Keep track of the cost\n",
    "\n",
    "    # Create placeholder\n",
    "    X = create_placeholders(num_input)\n",
    "    # Initialize parameters\n",
    "    parameters = initialize_parameters(layers_dim)\n",
    "    # One step of the forward propagation\n",
    "    A3 = forward_propagation(X, parameters)\n",
    "    # Compute the current cost\n",
    "    cost = compute_cost(X, A3, parameters, beta, A, alpha)\n",
    "    # Set the optimizer in the backward propagation\n",
    "    optimizer = tf.train.AdamOptimizer(learning_rate=learning_rate).minimize(\n",
    "        cost)\n",
    "    # Initialize all the variables\n",
    "    init = tf.global_variables_initializer()\n",
    "\n",
    "    # ----------------------------------------------------------------------- #\n",
    "    # Start to train DNN with random minibatches\n",
    "    # ----------------------------------------------------------------------- #\n",
    "    with tf.Session() as sess:\n",
    "        sess.run(init)  # Initialization\n",
    "\n",
    "        for epoch in range(1, num_epochs+1):\n",
    "            epoch_cost = 0  # Initialize and track the cost for each epoch\n",
    "            # Number of minibatch size\n",
    "            num_minibatches = int(t_length / minibatch_size)\n",
    "            minibatches = random_mini_batches_X(train_X, minibatch_size)\n",
    "\n",
    "            for minibatch in minibatches:\n",
    "                minibatch_X = minibatch\n",
    "                _, minibatch_cost = sess.run(\n",
    "                    [optimizer, cost], feed_dict={X: minibatch_X})\n",
    "                epoch_cost += minibatch_cost / num_minibatches\n",
    "\n",
    "            # Track the cost\n",
    "            costs.append(epoch_cost)\n",
    "\n",
    "            # Print the cost every epoch\n",
    "            if print_cost is True and epoch % print_span == 0:\n",
    "                print(r'Cost after iteration {} is {:.3e}'.format(\n",
    "                    epoch, epoch_cost))\n",
    "\n",
    "        # Save the parameters in a variable\n",
    "        parameters = sess.run(parameters)\n",
    "        print(\"Parameters have been trained\")\n",
    "\n",
    "        return costs, parameters"
   ]
  },
  {
   "cell_type": "markdown",
   "metadata": {},
   "source": [
    "Training data is"
   ]
  },
  {
   "cell_type": "code",
   "execution_count": 26,
   "metadata": {},
   "outputs": [
    {
     "name": "stdout",
     "output_type": "stream",
     "text": [
      "train_X has a shape of (1, 10000)\n"
     ]
    }
   ],
   "source": [
    "kbeg, kend, ksize = 1e-6, 0.25, 250\n",
    "kinit = (kbeg + kend) / 2\n",
    "kgrid = np.linspace(kbeg, kend, ksize, dtype=np.float32)\n",
    "train_X = np.random.uniform(kbeg, kend, (num_input, t_length))\n",
    "print(\"train_X has a shape of {}\".format(train_X.shape))"
   ]
  },
  {
   "cell_type": "code",
   "execution_count": 27,
   "metadata": {},
   "outputs": [
    {
     "name": "stdout",
     "output_type": "stream",
     "text": [
      "Cost after iteration 50 is 1.157e-03\n",
      "Cost after iteration 100 is 4.441e-04\n",
      "Cost after iteration 150 is 2.730e-04\n",
      "Cost after iteration 200 is 1.926e-04\n",
      "Cost after iteration 250 is 1.714e-04\n",
      "Cost after iteration 300 is 1.749e-04\n",
      "Cost after iteration 350 is 1.677e-04\n",
      "Cost after iteration 400 is 1.529e-04\n",
      "Cost after iteration 450 is 1.604e-04\n",
      "Cost after iteration 500 is 1.627e-04\n",
      "Cost after iteration 550 is 1.805e-04\n",
      "Cost after iteration 600 is 1.717e-04\n",
      "Cost after iteration 650 is 1.487e-04\n",
      "Cost after iteration 700 is 1.498e-04\n",
      "Cost after iteration 750 is 1.327e-04\n",
      "Cost after iteration 800 is 1.249e-04\n",
      "Cost after iteration 850 is 1.251e-04\n",
      "Cost after iteration 900 is 1.098e-04\n",
      "Cost after iteration 950 is 1.016e-04\n",
      "Cost after iteration 1000 is 9.878e-05\n",
      "Parameters have been trained\n"
     ]
    },
    {
     "data": {
      "text/plain": [
       "(0, 1048.95)"
      ]
     },
     "execution_count": 27,
     "metadata": {},
     "output_type": "execute_result"
    },
    {
     "data": {
      "image/png": "[encoded data removed]",
      "text/plain": [
       "<Figure size 1080x432 with 2 Axes>"
      ]
     },
     "metadata": {
      "needs_background": "light"
     },
     "output_type": "display_data"
    },
    {
     "data": {
      "image/png": "[encoded data removed]",
      "text/plain": [
       "<Figure size 648x432 with 1 Axes>"
      ]
     },
     "metadata": {
      "needs_background": "light"
     },
     "output_type": "display_data"
    }
   ],
   "source": [
    "costs, parameters_star = model(\n",
    "    train_X, layers_dim, learning_rate, num_epochs=1000,\n",
    "    minibatch_size=minibatch_size, print_span=50, print_cost=True)\n",
    "\n",
    "with tf.Session() as sess:\n",
    "    # One step of the forward propagation\n",
    "    policy_star = sess.run(forward_propagation(\n",
    "        kgrid.reshape(1, ksize), parameters_star))\n",
    "\n",
    "# Capital stock in the next period\n",
    "k_plus_analytic_path = k_plus_analytic(kgrid, alpha, beta, A)\n",
    "# Consumption policy\n",
    "c_analytic = consum(kgrid, k_plus_analytic_path, alpha, beta, A)\n",
    "c_dnn = consum(kgrid, policy_star[0, :], alpha, beta, A)\n",
    "\n",
    "# Capital stock tomorrow\n",
    "fig, axes = plt.subplots(nrows=1, ncols=2, figsize=(15, 6))\n",
    "axes[0].plot(kgrid, policy_star[0, :], 'k-', label=\"DNN\")\n",
    "axes[0].plot(kgrid, k_plus_analytic_path, 'k--', label=\"Analytic\")\n",
    "axes[0].plot(kgrid, kgrid, 'k:')\n",
    "axes[0].set_xlabel(r\"$k_{t}$\")\n",
    "axes[0].set_ylabel(r\"$k_{t+1}$\")\n",
    "axes[0].set_xlim([kbeg, kend])\n",
    "axes[0].set_ylim([0, kend])\n",
    "axes[0].legend(loc='best')\n",
    "\n",
    "axes[1].plot(kgrid, c_dnn, 'k-', label=\"DNN\")\n",
    "axes[1].plot(kgrid, c_analytic, 'k--', label=\"Analytic\")\n",
    "axes[1].set_xlabel(r\"$k_{t}$\")\n",
    "axes[1].set_ylabel(r\"$c_{t}$\")\n",
    "axes[1].set_xlim([kbeg, kend])\n",
    "axes[1].set_ylim([0, None])\n",
    "axes[1].legend(loc='best')\n",
    "\n",
    "fig, ax = plt.subplots(figsize=(9, 6))\n",
    "ax.plot(np.log10(costs), 'k-')\n",
    "ax.set_xlabel(\"Number of epochs\")\n",
    "ax.set_ylabel(\"$log_{10}$ of the cost\")\n",
    "ax.set_xlim([0, None])"
   ]
  },
  {
   "cell_type": "markdown",
   "metadata": {},
   "source": [
    "As seen above, deep neural net successfully approximates the policy functions. The cost function decreases as the training proceeds and converges at approximately $10^{-4}$."
   ]
  },
  {
   "cell_type": "markdown",
   "metadata": {},
   "source": [
    "## Deep neural net with sampling the most relevant states\n",
    "\n",
    "In the previous example, we train the model with the fixed training data that, we hope, efficiently covers the ergodic set. In this example, in every episode, we simulate the training data points with the given initial state and updated parameters (Azinovic et al. (2019))."
   ]
  },
  {
   "cell_type": "code",
   "execution_count": 30,
   "metadata": {},
   "outputs": [],
   "source": [
    "def model_sampling(\n",
    "        init_state, num_input, t_length, layers_dim, learning_rate,\n",
    "        num_episodes, num_epochs, minibatch_size, print_span, print_cost=True):\n",
    "    \"\"\" Train DNN with sampling the most relevant states \"\"\"\n",
    "\n",
    "    tf.reset_default_graph()  # Reset DNN\n",
    "\n",
    "    costs = []  # Keep track of the cost\n",
    "\n",
    "    episodic_costs = []  # Keep track of the episodic cost\n",
    "\n",
    "    # Create placeholder\n",
    "    X = create_placeholders(num_input)\n",
    "    # Initialize parameters\n",
    "    parameters = initialize_parameters(layers_dim)\n",
    "    # One step of the forward propagation\n",
    "    A3 = forward_propagation(X, parameters)\n",
    "    # Compute the current cost\n",
    "    cost = compute_cost(X, A3, parameters, beta, A, alpha)\n",
    "    # Set the optimizer in the backward propagation\n",
    "    optimizer = tf.train.AdamOptimizer(learning_rate=learning_rate).minimize(\n",
    "        cost)\n",
    "    # Initialize all the variables\n",
    "    init = tf.global_variables_initializer()\n",
    "\n",
    "    # ----------------------------------------------------------------------- #\n",
    "    # Start to train DNN with sampling and random minibatches\n",
    "    # ----------------------------------------------------------------------- #\n",
    "    with tf.Session() as sess:\n",
    "        sess.run(init)  # Initialization\n",
    "\n",
    "        for episode in range(1, num_episodes+1):\n",
    "            episodic_cost = 0\n",
    "            # --------------------------------------------------------------- #\n",
    "            # Simulate one training path\n",
    "            # --------------------------------------------------------------- #\n",
    "            # Training set, which samples the most relevent states\n",
    "            # Keep compativility with placeholder X that has [num_input. None]\n",
    "            train_X = np.empty((num_input, t_length), dtype=np.float32)\n",
    "            # Retlieve the initial state from the previous episode\n",
    "            train_X[0, 0] = init_state\n",
    "            for t in range(1, t_length):\n",
    "                # Keep the same shape with X ([num_input, None])\n",
    "                x_previous = train_X[0, t-1].reshape((num_input, 1))\n",
    "                train_X[0, t] = sess.run(A3, feed_dict={X: x_previous})[0]\n",
    "\n",
    "            # --------------------------------------------------------------- #\n",
    "            # Train DNN with the sampled state path\n",
    "            # --------------------------------------------------------------- #\n",
    "            for epoch in range(1, num_epochs+1):\n",
    "                epoch_cost = 0  # Initialize and trach the cost for each epoch\n",
    "                # Number of minibatch size\n",
    "                num_minibatches = int(t_length / minibatch_size)\n",
    "                minibatches = random_mini_batches_X(train_X, minibatch_size)\n",
    "\n",
    "                for minibatch in minibatches:\n",
    "                    minibatch_X = minibatch\n",
    "                    _, minibatch_cost = sess.run(\n",
    "                        [optimizer, cost], feed_dict={X: minibatch_X})\n",
    "                    epoch_cost += minibatch_cost / num_minibatches\n",
    "\n",
    "                # Track the cost\n",
    "                costs.append(epoch_cost)\n",
    "\n",
    "                # Print the cost every epoch\n",
    "                if print_cost is True and epoch % print_span == 0:\n",
    "                    print(\n",
    "                        r'Cost after epoch {} in episode {} is {:.3e}'.format(\n",
    "                            epoch, episode, epoch_cost))\n",
    "                episodic_cost += epoch_cost / num_epochs\n",
    "            # Track the episodic cost\n",
    "            episodic_costs.append(episodic_cost)\n",
    "\n",
    "            # Trach the last state for the next episode\n",
    "            init_state = train_X[0, -1]\n",
    "            train_X_previous = train_X\n",
    "\n",
    "        # Save the parameters in a variable\n",
    "        parameters = sess.run(parameters)\n",
    "\n",
    "        return costs, episodic_costs, parameters, train_X, train_X_previous"
   ]
  },
  {
   "cell_type": "markdown",
   "metadata": {},
   "source": [
    "Then we train the model with sampling the most relevant state:"
   ]
  },
  {
   "cell_type": "code",
   "execution_count": 31,
   "metadata": {},
   "outputs": [
    {
     "name": "stdout",
     "output_type": "stream",
     "text": [
      "Cost after epoch 5 in episode 1 is 3.763e-05\n",
      "Cost after epoch 10 in episode 1 is 3.752e-05\n",
      "Cost after epoch 5 in episode 2 is 1.680e-04\n",
      "Cost after epoch 10 in episode 2 is 1.586e-04\n",
      "Cost after epoch 5 in episode 3 is 7.361e-06\n",
      "Cost after epoch 10 in episode 3 is 7.426e-06\n",
      "Cost after epoch 5 in episode 4 is 5.390e-08\n",
      "Cost after epoch 10 in episode 4 is 5.545e-08\n",
      "Cost after epoch 5 in episode 5 is 1.245e-09\n",
      "Cost after epoch 10 in episode 5 is 1.398e-09\n",
      "Cost after epoch 5 in episode 6 is 1.142e-11\n",
      "Cost after epoch 10 in episode 6 is 1.093e-06\n",
      "Cost after epoch 5 in episode 7 is 2.706e-07\n",
      "Cost after epoch 10 in episode 7 is 6.432e-07\n",
      "Cost after epoch 5 in episode 8 is 8.595e-07\n",
      "Cost after epoch 10 in episode 8 is 9.688e-08\n",
      "Cost after epoch 5 in episode 9 is 1.144e-06\n",
      "Cost after epoch 10 in episode 9 is 9.114e-08\n",
      "Cost after epoch 5 in episode 10 is 9.622e-07\n",
      "Cost after epoch 10 in episode 10 is 6.408e-07\n",
      "Cost after epoch 5 in episode 11 is 8.912e-07\n",
      "Cost after epoch 10 in episode 11 is 1.008e-06\n",
      "Cost after epoch 5 in episode 12 is 1.232e-06\n",
      "Cost after epoch 10 in episode 12 is 1.168e-06\n",
      "Cost after epoch 5 in episode 13 is 3.922e-07\n",
      "Cost after epoch 10 in episode 13 is 5.512e-07\n",
      "Cost after epoch 5 in episode 14 is 8.402e-08\n",
      "Cost after epoch 10 in episode 14 is 5.945e-07\n",
      "Cost after epoch 5 in episode 15 is 6.707e-07\n",
      "Cost after epoch 10 in episode 15 is 4.035e-07\n",
      "Cost after epoch 5 in episode 16 is 7.582e-07\n",
      "Cost after epoch 10 in episode 16 is 7.241e-07\n",
      "Cost after epoch 5 in episode 17 is 1.034e-06\n",
      "Cost after epoch 10 in episode 17 is 9.529e-07\n",
      "Cost after epoch 5 in episode 18 is 1.334e-06\n",
      "Cost after epoch 10 in episode 18 is 3.448e-07\n",
      "Cost after epoch 5 in episode 19 is 4.778e-07\n",
      "Cost after epoch 10 in episode 19 is 6.380e-07\n",
      "Cost after epoch 5 in episode 20 is 6.105e-07\n",
      "Cost after epoch 10 in episode 20 is 5.872e-07\n",
      "Cost after epoch 5 in episode 21 is 7.777e-07\n",
      "Cost after epoch 10 in episode 21 is 1.014e-06\n",
      "Cost after epoch 5 in episode 22 is 7.068e-07\n",
      "Cost after epoch 10 in episode 22 is 9.367e-07\n",
      "Cost after epoch 5 in episode 23 is 5.554e-07\n",
      "Cost after epoch 10 in episode 23 is 7.032e-07\n",
      "Cost after epoch 5 in episode 24 is 9.258e-07\n",
      "Cost after epoch 10 in episode 24 is 5.313e-07\n",
      "Cost after epoch 5 in episode 25 is 6.244e-07\n",
      "Cost after epoch 10 in episode 25 is 5.968e-07\n",
      "Cost after epoch 5 in episode 26 is 6.581e-07\n",
      "Cost after epoch 10 in episode 26 is 7.380e-07\n",
      "Cost after epoch 5 in episode 27 is 8.236e-07\n",
      "Cost after epoch 10 in episode 27 is 7.331e-07\n",
      "Cost after epoch 5 in episode 28 is 6.215e-07\n",
      "Cost after epoch 10 in episode 28 is 7.971e-07\n",
      "Cost after epoch 5 in episode 29 is 5.673e-07\n",
      "Cost after epoch 10 in episode 29 is 5.513e-07\n",
      "Cost after epoch 5 in episode 30 is 7.033e-07\n",
      "Cost after epoch 10 in episode 30 is 6.352e-07\n",
      "Cost after epoch 5 in episode 31 is 8.129e-07\n",
      "Cost after epoch 10 in episode 31 is 8.198e-07\n",
      "Cost after epoch 5 in episode 32 is 2.193e-08\n",
      "Cost after epoch 10 in episode 32 is 4.212e-09\n",
      "Cost after epoch 5 in episode 33 is 1.646e-08\n",
      "Cost after epoch 10 in episode 33 is 8.865e-07\n",
      "Cost after epoch 5 in episode 34 is 8.515e-07\n",
      "Cost after epoch 10 in episode 34 is 1.042e-06\n",
      "Cost after epoch 5 in episode 35 is 1.215e-06\n",
      "Cost after epoch 10 in episode 35 is 7.563e-09\n",
      "Cost after epoch 5 in episode 36 is 1.135e-08\n",
      "Cost after epoch 10 in episode 36 is 8.124e-07\n",
      "Cost after epoch 5 in episode 37 is 6.088e-07\n",
      "Cost after epoch 10 in episode 37 is 5.004e-07\n",
      "Cost after epoch 5 in episode 38 is 4.346e-07\n",
      "Cost after epoch 10 in episode 38 is 7.136e-07\n",
      "Cost after epoch 5 in episode 39 is 6.912e-07\n",
      "Cost after epoch 10 in episode 39 is 5.806e-08\n",
      "Cost after epoch 5 in episode 40 is 8.417e-07\n",
      "Cost after epoch 10 in episode 40 is 5.076e-07\n",
      "Cost after epoch 5 in episode 41 is 7.963e-07\n",
      "Cost after epoch 10 in episode 41 is 6.074e-07\n",
      "Cost after epoch 5 in episode 42 is 8.182e-07\n",
      "Cost after epoch 10 in episode 42 is 5.273e-07\n",
      "Cost after epoch 5 in episode 43 is 4.692e-07\n",
      "Cost after epoch 10 in episode 43 is 6.966e-07\n",
      "Cost after epoch 5 in episode 44 is 1.085e-06\n",
      "Cost after epoch 10 in episode 44 is 7.603e-07\n",
      "Cost after epoch 5 in episode 45 is 7.362e-07\n",
      "Cost after epoch 10 in episode 45 is 1.079e-06\n",
      "Cost after epoch 5 in episode 46 is 9.148e-07\n",
      "Cost after epoch 10 in episode 46 is 8.561e-07\n",
      "Cost after epoch 5 in episode 47 is 7.765e-07\n",
      "Cost after epoch 10 in episode 47 is 8.940e-07\n",
      "Cost after epoch 5 in episode 48 is 1.068e-06\n",
      "Cost after epoch 10 in episode 48 is 1.290e-06\n",
      "Cost after epoch 5 in episode 49 is 7.953e-07\n",
      "Cost after epoch 10 in episode 49 is 4.779e-08\n",
      "Cost after epoch 5 in episode 50 is 6.268e-07\n",
      "Cost after epoch 10 in episode 50 is 1.538e-07\n",
      "Cost after epoch 5 in episode 51 is 5.792e-07\n",
      "Cost after epoch 10 in episode 51 is 6.465e-07\n",
      "Cost after epoch 5 in episode 52 is 9.615e-07\n",
      "Cost after epoch 10 in episode 52 is 2.010e-07\n",
      "Cost after epoch 5 in episode 53 is 8.699e-07\n",
      "Cost after epoch 10 in episode 53 is 6.472e-07\n",
      "Cost after epoch 5 in episode 54 is 1.256e-07\n",
      "Cost after epoch 10 in episode 54 is 3.382e-07\n",
      "Cost after epoch 5 in episode 55 is 1.451e-06\n",
      "Cost after epoch 10 in episode 55 is 6.836e-07\n",
      "Cost after epoch 5 in episode 56 is 1.097e-07\n",
      "Cost after epoch 10 in episode 56 is 6.611e-07\n",
      "Cost after epoch 5 in episode 57 is 9.789e-07\n",
      "Cost after epoch 10 in episode 57 is 6.843e-07\n",
      "Cost after epoch 5 in episode 58 is 6.626e-07\n",
      "Cost after epoch 10 in episode 58 is 4.959e-07\n",
      "Cost after epoch 5 in episode 59 is 7.586e-08\n",
      "Cost after epoch 10 in episode 59 is 5.729e-07\n",
      "Cost after epoch 5 in episode 60 is 4.813e-07\n",
      "Cost after epoch 10 in episode 60 is 4.494e-07\n",
      "Cost after epoch 5 in episode 61 is 4.174e-07\n",
      "Cost after epoch 10 in episode 61 is 7.085e-07\n",
      "Cost after epoch 5 in episode 62 is 5.846e-07\n",
      "Cost after epoch 10 in episode 62 is 2.075e-07\n",
      "Cost after epoch 5 in episode 63 is 5.932e-07\n",
      "Cost after epoch 10 in episode 63 is 4.676e-07\n",
      "Cost after epoch 5 in episode 64 is 4.541e-07\n",
      "Cost after epoch 10 in episode 64 is 4.935e-08\n",
      "Cost after epoch 5 in episode 65 is 3.456e-07\n",
      "Cost after epoch 10 in episode 65 is 3.447e-07\n",
      "Cost after epoch 5 in episode 66 is 8.068e-07\n",
      "Cost after epoch 10 in episode 66 is 6.044e-07\n",
      "Cost after epoch 5 in episode 67 is 8.034e-07\n",
      "Cost after epoch 10 in episode 67 is 5.980e-07\n",
      "Cost after epoch 5 in episode 68 is 6.960e-07\n",
      "Cost after epoch 10 in episode 68 is 3.225e-07\n",
      "Cost after epoch 5 in episode 69 is 6.327e-07\n",
      "Cost after epoch 10 in episode 69 is 4.343e-07\n",
      "Cost after epoch 5 in episode 70 is 3.211e-07\n",
      "Cost after epoch 10 in episode 70 is 3.365e-07\n",
      "Cost after epoch 5 in episode 71 is 4.064e-07\n",
      "Cost after epoch 10 in episode 71 is 1.010e-06\n",
      "Cost after epoch 5 in episode 72 is 7.511e-07\n",
      "Cost after epoch 10 in episode 72 is 7.477e-07\n",
      "Cost after epoch 5 in episode 73 is 7.841e-07\n",
      "Cost after epoch 10 in episode 73 is 5.391e-08\n",
      "Cost after epoch 5 in episode 74 is 6.406e-07\n",
      "Cost after epoch 10 in episode 74 is 4.740e-07\n",
      "Cost after epoch 5 in episode 75 is 1.805e-07\n",
      "Cost after epoch 10 in episode 75 is 5.142e-07\n",
      "Cost after epoch 5 in episode 76 is 7.607e-07\n",
      "Cost after epoch 10 in episode 76 is 6.110e-07\n",
      "Cost after epoch 5 in episode 77 is 2.873e-08\n",
      "Cost after epoch 10 in episode 77 is 3.993e-08\n",
      "Cost after epoch 5 in episode 78 is 1.010e-06\n",
      "Cost after epoch 10 in episode 78 is 7.270e-07\n",
      "Cost after epoch 5 in episode 79 is 1.283e-09\n",
      "Cost after epoch 10 in episode 79 is 7.579e-07\n",
      "Cost after epoch 5 in episode 80 is 5.020e-07\n",
      "Cost after epoch 10 in episode 80 is 7.959e-07\n",
      "Cost after epoch 5 in episode 81 is 4.729e-07\n",
      "Cost after epoch 10 in episode 81 is 3.395e-08\n",
      "Cost after epoch 5 in episode 82 is 6.673e-07\n",
      "Cost after epoch 10 in episode 82 is 5.796e-07\n",
      "Cost after epoch 5 in episode 83 is 1.102e-06\n",
      "Cost after epoch 10 in episode 83 is 5.964e-07\n",
      "Cost after epoch 5 in episode 84 is 4.271e-07\n",
      "Cost after epoch 10 in episode 84 is 4.171e-07\n",
      "Cost after epoch 5 in episode 85 is 5.696e-07\n",
      "Cost after epoch 10 in episode 85 is 5.744e-07\n",
      "Cost after epoch 5 in episode 86 is 7.787e-07\n",
      "Cost after epoch 10 in episode 86 is 5.419e-07\n",
      "Cost after epoch 5 in episode 87 is 5.492e-07\n",
      "Cost after epoch 10 in episode 87 is 5.901e-07\n",
      "Cost after epoch 5 in episode 88 is 4.950e-07\n",
      "Cost after epoch 10 in episode 88 is 6.639e-07\n",
      "Cost after epoch 5 in episode 89 is 5.272e-09\n"
     ]
    },
    {
     "name": "stdout",
     "output_type": "stream",
     "text": [
      "Cost after epoch 10 in episode 89 is 4.761e-07\n",
      "Cost after epoch 5 in episode 90 is 6.870e-07\n",
      "Cost after epoch 10 in episode 90 is 1.071e-07\n",
      "Cost after epoch 5 in episode 91 is 7.623e-07\n",
      "Cost after epoch 10 in episode 91 is 6.179e-07\n",
      "Cost after epoch 5 in episode 92 is 5.549e-07\n",
      "Cost after epoch 10 in episode 92 is 1.915e-07\n",
      "Cost after epoch 5 in episode 93 is 4.757e-07\n",
      "Cost after epoch 10 in episode 93 is 8.649e-07\n",
      "Cost after epoch 5 in episode 94 is 5.192e-07\n",
      "Cost after epoch 10 in episode 94 is 9.272e-09\n",
      "Cost after epoch 5 in episode 95 is 4.855e-07\n",
      "Cost after epoch 10 in episode 95 is 6.049e-07\n",
      "Cost after epoch 5 in episode 96 is 4.441e-07\n",
      "Cost after epoch 10 in episode 96 is 1.681e-09\n",
      "Cost after epoch 5 in episode 97 is 4.618e-08\n",
      "Cost after epoch 10 in episode 97 is 7.645e-07\n",
      "Cost after epoch 5 in episode 98 is 5.859e-07\n",
      "Cost after epoch 10 in episode 98 is 8.813e-07\n",
      "Cost after epoch 5 in episode 99 is 3.104e-08\n",
      "Cost after epoch 10 in episode 99 is 5.940e-07\n",
      "Cost after epoch 5 in episode 100 is 6.232e-07\n",
      "Cost after epoch 10 in episode 100 is 5.970e-07\n"
     ]
    },
    {
     "data": {
      "text/plain": [
       "(0, 103.95)"
      ]
     },
     "execution_count": 31,
     "metadata": {},
     "output_type": "execute_result"
    },
    {
     "data": {
      "image/png": "[encoded data removed]",
      "text/plain": [
       "<Figure size 648x432 with 1 Axes>"
      ]
     },
     "metadata": {
      "needs_background": "light"
     },
     "output_type": "display_data"
    },
    {
     "data": {
      "image/png": "[encoded data removed]",
      "text/plain": [
       "<Figure size 648x432 with 1 Axes>"
      ]
     },
     "metadata": {
      "needs_background": "light"
     },
     "output_type": "display_data"
    }
   ],
   "source": [
    "costs_sampling, episodic_costs, parameters_sampling, train_X, \\\n",
    "    train_X_previous = model_sampling(\n",
    "        kinit, num_input, t_length, layers_dim, learning_rate, num_episodes,\n",
    "        num_epochs, minibatch_size, print_span=5, print_cost=True)\n",
    "\n",
    "\n",
    "fig, ax = plt.subplots(figsize=(9, 6))\n",
    "ax.plot(train_X_previous[0, :], train_X[0, :], 'o', markersize=3, label='DNN')\n",
    "ax.plot(k_infty, k_infty, 'o', c='red', markersize=5, label='Stationary')\n",
    "ax.set_xlim([0.19, 0.20])\n",
    "ax.set_ylim([0.19, 0.20])\n",
    "ax.set_xlabel(r\"$k_{t}$\")\n",
    "ax.set_ylabel(r\"$k_{t+1}$\")\n",
    "\n",
    "ax.legend(loc='best')\n",
    "\n",
    "fig, ax = plt.subplots(figsize=(9, 6))\n",
    "ax.plot(np.log10(episodic_costs), 'k-')\n",
    "ax.set_xlabel(\"Number of episodes\")\n",
    "ax.set_ylabel(\"$log_{10}$ of the cost\")\n",
    "ax.set_xlim([0, None])"
   ]
  },
  {
   "cell_type": "markdown",
   "metadata": {},
   "source": [
    "As you might expect, deep neural net approximate policy functions exactly on the stationary point."
   ]
  },
  {
   "cell_type": "code",
   "execution_count": null,
   "metadata": {},
   "outputs": [],
   "source": []
  }
 ],
 "metadata": {
  "kernelspec": {
   "display_name": "Python 3",
   "language": "python",
   "name": "python3"
  },
  "language_info": {
   "codemirror_mode": {
    "name": "ipython",
    "version": 3
   },
   "file_extension": ".py",
   "mimetype": "text/x-python",
   "name": "python",
   "nbconvert_exporter": "python",
   "pygments_lexer": "ipython3",
   "version": "3.7.5"
  },
  "toc": {
   "base_numbering": 1,
   "nav_menu": {},
   "number_sections": true,
   "sideBar": true,
   "skip_h1_title": false,
   "title_cell": "Table of Contents",
   "title_sidebar": "Contents",
   "toc_cell": false,
   "toc_position": {},
   "toc_section_display": true,
   "toc_window_display": false
  }
 },
 "nbformat": 4,
 "nbformat_minor": 2
}

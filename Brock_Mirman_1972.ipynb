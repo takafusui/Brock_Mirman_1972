{
 "cells": [
  {
   "cell_type": "markdown",
   "metadata": {},
   "source": [
    "# Introduction\n",
    "In this notebook, we are going to solve a simple optimal growth model with one agent. The model is a simplified version of Brock and Mirman (1972). The planner aims to maximize his time-separable life time utility subject to his budget constraint:\n",
    "$$\n",
    "\\begin{align}\n",
    "&\\max_{\\left\\{c_{t}\\right\\}_{t=0}^{\\infty}} \\sum_{t=0}^{\\infty} \\beta^{t} \\ln\\left(c_{t}\\right) \\\\\n",
    "\\text{s.t.} \\quad & k_{t+1} + c_{t} \\leq Ak_{t}^\\alpha\n",
    "\\end{align}\n",
    "$$\n",
    "As is well known, this particular problem has an analytical (or closed-form) solution:\n",
    "$$\n",
    "\\begin{align}\n",
    "k_{t+1} = \\beta \\alpha A k_{t}^{\\alpha}\n",
    "\\end{align}\n",
    "$$\n",
    "At first, we want to check the optimal growth path by applying the above policy function."
   ]
  },
  {
   "cell_type": "code",
   "execution_count": 1,
   "metadata": {},
   "outputs": [
    {
     "name": "stderr",
     "output_type": "stream",
     "text": [
      "/home/takafumi/.pyenv/versions/anaconda3-5.3.1/envs/tensor1/lib/python3.7/site-packages/tensorflow/python/framework/dtypes.py:526: FutureWarning: Passing (type, 1) or '1type' as a synonym of type is deprecated; in a future version of numpy, it will be understood as (type, (1,)) / '(1,)type'.\n",
      "  _np_qint8 = np.dtype([(\"qint8\", np.int8, 1)])\n",
      "/home/takafumi/.pyenv/versions/anaconda3-5.3.1/envs/tensor1/lib/python3.7/site-packages/tensorflow/python/framework/dtypes.py:527: FutureWarning: Passing (type, 1) or '1type' as a synonym of type is deprecated; in a future version of numpy, it will be understood as (type, (1,)) / '(1,)type'.\n",
      "  _np_quint8 = np.dtype([(\"quint8\", np.uint8, 1)])\n",
      "/home/takafumi/.pyenv/versions/anaconda3-5.3.1/envs/tensor1/lib/python3.7/site-packages/tensorflow/python/framework/dtypes.py:528: FutureWarning: Passing (type, 1) or '1type' as a synonym of type is deprecated; in a future version of numpy, it will be understood as (type, (1,)) / '(1,)type'.\n",
      "  _np_qint16 = np.dtype([(\"qint16\", np.int16, 1)])\n",
      "/home/takafumi/.pyenv/versions/anaconda3-5.3.1/envs/tensor1/lib/python3.7/site-packages/tensorflow/python/framework/dtypes.py:529: FutureWarning: Passing (type, 1) or '1type' as a synonym of type is deprecated; in a future version of numpy, it will be understood as (type, (1,)) / '(1,)type'.\n",
      "  _np_quint16 = np.dtype([(\"quint16\", np.uint16, 1)])\n",
      "/home/takafumi/.pyenv/versions/anaconda3-5.3.1/envs/tensor1/lib/python3.7/site-packages/tensorflow/python/framework/dtypes.py:530: FutureWarning: Passing (type, 1) or '1type' as a synonym of type is deprecated; in a future version of numpy, it will be understood as (type, (1,)) / '(1,)type'.\n",
      "  _np_qint32 = np.dtype([(\"qint32\", np.int32, 1)])\n",
      "/home/takafumi/.pyenv/versions/anaconda3-5.3.1/envs/tensor1/lib/python3.7/site-packages/tensorflow/python/framework/dtypes.py:535: FutureWarning: Passing (type, 1) or '1type' as a synonym of type is deprecated; in a future version of numpy, it will be understood as (type, (1,)) / '(1,)type'.\n",
      "  np_resource = np.dtype([(\"resource\", np.ubyte, 1)])\n"
     ]
    },
    {
     "name": "stdout",
     "output_type": "stream",
     "text": [
      "Version of tensorflow is 1.13.1\n"
     ]
    }
   ],
   "source": [
    "# Import necessary liblaries\n",
    "import numpy as np\n",
    "import tensorflow as tf\n",
    "import matplotlib.pyplot as plt\n",
    "\n",
    "%matplotlib inline\n",
    "print(\"Version of tensorflow is {}\".format(tf.__version__))"
   ]
  },
  {
   "cell_type": "code",
   "execution_count": 2,
   "metadata": {},
   "outputs": [],
   "source": [
    "A = 1  # Technology level\n",
    "alpha = 0.3  # Capital share in the Cobb-Douglas production function\n",
    "beta = 0.95  # Discount factor\n",
    "\n",
    "def k_plus_analytic(k, alpha, beta, A):\n",
    "    \"Return the optimal capital stock in the next period\"\n",
    "    return alpha * beta * A * k**alpha"
   ]
  },
  {
   "cell_type": "code",
   "execution_count": 3,
   "metadata": {},
   "outputs": [
    {
     "data": {
      "image/png": "[encoded data removed]",
      "text/plain": [
       "<Figure size 432x288 with 1 Axes>"
      ]
     },
     "metadata": {
      "needs_background": "light"
     },
     "output_type": "display_data"
    }
   ],
   "source": [
    "# Setup the capital grid\n",
    "kbeg, kend, ksize = 1e-3, 3, 250\n",
    "kgrid = np.linspace(kbeg, kend, ksize)\n",
    "\n",
    "k_plus = k_plus_analytic(kgrid, alpha, beta, A)\n",
    "\n",
    "plt.plot(kgrid, k_plus)\n",
    "plt.xlim(0, kend)\n",
    "plt.ylim(0, None)\n",
    "plt.xlabel(r\"$k_{t}$\")\n",
    "plt.ylabel(r\"$k_{t+1}$\")\n",
    "plt.show()"
   ]
  },
  {
   "cell_type": "markdown",
   "metadata": {},
   "source": [
    "# Deep neural net\n",
    "## The network architecture\n",
    "Now, we aim to solve the Brock and Mirman (1972) by using deep learning following Azinovic et al. (2019). When we solve the above model for the first-order condition, we can derive the following two equilibrium conditions:\n",
    "$$\n",
    "\\begin{align}\n",
    "& \\lambda_{t} - \\beta \\lambda_{t+1} A \\alpha k_{t+1}^{\\alpha - 1} = 0 \\\\\n",
    "& \\left[A k_{t}^{\\alpha} - k_{t+1} - \\frac{1}{\\lambda_{t}}\\right]\\lambda_{t} = 0\n",
    "\\end{align}\n",
    "$$"
   ]
  },
  {
   "cell_type": "markdown",
   "metadata": {},
   "source": [
    "Here, we build the neural net. The neural network is assumed to have the following archtecture:  \n",
    "Layer 1: the input layer, 1 neuron corresponding to the capital stock today  \n",
    "Layer 2: the first hidden layer, 50 neurons and is activated by Relu  \n",
    "Layer 3: the second hidden layer, 50 neurons and is activated by Relu  \n",
    "Layer 4: the output layer, 2 neurons corresponding to the capital stock tomorrow and the Lagrange multiplier"
   ]
  },
  {
   "cell_type": "code",
   "execution_count": 4,
   "metadata": {},
   "outputs": [
    {
     "name": "stdout",
     "output_type": "stream",
     "text": [
      "Dimensions of each layer are [1, 50, 50, 2]\n"
     ]
    }
   ],
   "source": [
    "num_input = 1\n",
    "num_hidden1 = 50\n",
    "num_hidden2 = 50\n",
    "num_output = 2\n",
    "\n",
    "layers_dim = [num_input, num_hidden1, num_hidden2, num_output]\n",
    "print(\"Dimensions of each layer are {}\".format(layers_dim))"
   ]
  },
  {
   "cell_type": "code",
   "execution_count": 5,
   "metadata": {},
   "outputs": [],
   "source": [
    "def create_placeholders(num_x):\n",
    "    \"\"\" Create the placeholders.\n",
    "    The row dimention is None that represents the length of the simulated \n",
    "    path.\"\"\"\n",
    "    X = tf.placeholder(tf.float32, shape=[num_x, None], name='X')\n",
    "    return X\n",
    "\n",
    "def initialize_parameters(layers_dim):\n",
    "    \"\"\" Initialize parameters to build a neural network\n",
    "    1: [num_x, None] -> [num_hidden1, None] \n",
    "    2: [num_hidden1, None] -> [num_hidden2, None] \n",
    "    3: [num_hidden2, None] -> [2, None] \n",
    "    \"\"\"\n",
    "\n",
    "    W1 = tf.get_variable('W1', [layers_dim[1], layers_dim[0]], tf.float32,\n",
    "                         tf.contrib.layers.xavier_initializer())\n",
    "    b1 = tf.get_variable('b1', [layers_dim[1], 1], tf.float32, \n",
    "                         tf.zeros_initializer())\n",
    "    W2 = tf.get_variable('W2', [layers_dim[2], layers_dim[1]], tf.float32,\n",
    "                         tf.contrib.layers.xavier_initializer())\n",
    "    b2 = tf.get_variable('b2', [layers_dim[2], 1], tf.float32,\n",
    "                         tf.zeros_initializer())\n",
    "    W3 = tf.get_variable('W3', [layers_dim[3], layers_dim[2]], tf.float32,\n",
    "                         tf.contrib.layers.xavier_initializer())\n",
    "    b3 = tf.get_variable('b3', [layers_dim[3], 1], tf.float32, \n",
    "                         tf.zeros_initializer())\n",
    "\n",
    "    parameters = {'W1': W1, 'b1': b1, 'W2': W2, 'b2': b2, 'W3': W3, 'b3': b3}\n",
    "    return parameters\n",
    "\n",
    "# -------------------------------------------------------------------------- #\n",
    "# Test\n",
    "# -------------------------------------------------------------------------- #\n",
    "# with tf.Session() as sess:\n",
    "    # tf.reset_default_graph()\n",
    "    # X = create_placeholders(num_input)\n",
    "    # print(\"X = {}\".format(X))\n",
    "    # parameters = initialize_parameters(layers_dim)\n",
    "    # print(parameters)"
   ]
  },
  {
   "cell_type": "markdown",
   "metadata": {},
   "source": [
    "Next, we define the architecture of the neural network. We assumed that:\n",
    "The first layer converts [None, num_input] to [None, num_hidden1] and activates it via Relu.\n",
    "The second layer converts [None, num_hidden1] to [None, num_hidden2] and activates it via Relu.\n",
    "The third layer converts [None, num_hidden2] to [None, 2] and activates it via Softplus."
   ]
  },
  {
   "cell_type": "code",
   "execution_count": 6,
   "metadata": {},
   "outputs": [],
   "source": [
    "def forward_propagation(X, parameters):\n",
    "    \"\"\" Implement the forward propagation for the model\n",
    "    Linear -> RELU -> Linear -> RELU -> Linear -> Softplus \"\"\"\n",
    "\n",
    "    W1 = parameters['W1']\n",
    "    b1 = parameters['b1']\n",
    "    W2 = parameters['W2']\n",
    "    b2 = parameters['b2']\n",
    "    W3 = parameters['W3']\n",
    "    b3 = parameters['b3']\n",
    "    \n",
    "    print(\"Currnet X is {}\".format(X))\n",
    "\n",
    "    Z1 = tf.add(tf.matmul(W1, X), b1)  # Linear combination\n",
    "    A1 = tf.nn.relu(Z1)  # Activate with Relu\n",
    "    Z2 = tf.add(tf.matmul(W2, A1), b2)  # Linear combination\n",
    "    A2 = tf.nn.relu(Z2)  # Activate with Relu\n",
    "    Z3 = tf.add(tf.matmul(W3, A2), b3)  # Linear combination\n",
    "    A3 = tf.nn.softplus(Z3)  # Activate with Relu\n",
    "\n",
    "    return A3\n",
    "\n",
    "# -------------------------------------------------------------------------- #\n",
    "# Test\n",
    "# -------------------------------------------------------------------------- #\n",
    "# tf.reset_default_graph()\n",
    "# with tf.Session() as sess:\n",
    "    # X = create_placeholders(num_input)\n",
    "    # parameters = initialize_parameters(layers_dim)\n",
    "    # A3 = forward_propagation(X, parameters)\n",
    "    # print(A3)"
   ]
  },
  {
   "cell_type": "markdown",
   "metadata": {},
   "source": [
    "## Cost function\n",
    "Cost function is the mean squared sum of the relative Euler error and the approximation error in the KKT condition."
   ]
  },
  {
   "cell_type": "code",
   "execution_count": 7,
   "metadata": {},
   "outputs": [],
   "source": [
    "def compute_cost(X, parameters, beta, A, alpha):\n",
    "    \n",
    "    # Current capital state\n",
    "    k = X\n",
    "    # print(k)\n",
    "    \n",
    "    # Retlieve the simulation path\n",
    "    action = forward_propagation(X, parameters)\n",
    "    # print(action)\n",
    "    k_plus = tf.expand_dims(action[0, :], axis=0)\n",
    "    lambd = tf.expand_dims(action[1, :], axis=0)\n",
    "    # print(action, k_plus, lambd)\n",
    "    \n",
    "    # Retlieve the optimal actions in the next period\n",
    "    action_plus = forward_propagation(k_plus, parameters)\n",
    "    k_plusplus = tf.expand_dims(action_plus[0, :], axis=0)\n",
    "    lambd_plus = tf.expand_dims(action_plus[1, :], axis=0)\n",
    "    \n",
    "    # Define the relative Euler error\n",
    "    errREE = (beta * lambd_plus * A * alpha * k_plus**(alpha-1)) / lambd - 1\n",
    "    print(\"errREE has {}\".format(errREE[:]))\n",
    "    # Define the KKT error\n",
    "    errKKT = lambd * (A * k**alpha - k_plus - 1/lambd)\n",
    "    print(\"errKKT has {}\".format(errKKT))\n",
    "    err = tf.stack([errREE[0], errKKT[0]])\n",
    "    print(err)\n",
    "    err_optimal = tf.zeros_like(err)\n",
    "    \n",
    "    # Define the cost function\n",
    "    cost = tf.losses.mean_squared_error(err, err_optimal)\n",
    "    \n",
    "    return cost\n",
    "\n",
    "# -------------------------------------------------------------------------- #\n",
    "# Test\n",
    "# -------------------------------------------------------------------------- #\n",
    "# tf.reset_default_graph()\n",
    "# with tf.Session() as sess:\n",
    "    # X = create_placeholders(num_input)\n",
    "    # parameters = initialize_parameters(layers_dim)\n",
    "    # cost = compute_cost(X, parameters, beta, A, alpha)\n",
    "    # print(\"cost = {}\".format(cost))"
   ]
  },
  {
   "cell_type": "markdown",
   "metadata": {},
   "source": [
    "Prepare a training dataset."
   ]
  },
  {
   "cell_type": "code",
   "execution_count": 8,
   "metadata": {},
   "outputs": [
    {
     "name": "stdout",
     "output_type": "stream",
     "text": [
      "[[1.42199955 1.29417909 2.59049789 ... 2.9282587  1.17715067 0.42730446]]\n",
      "X has a shape of (1, 100000)\n"
     ]
    }
   ],
   "source": [
    "num_train = 100000\n",
    "X_data_train = np.random.uniform(kbeg, kend, (num_input, num_train))\n",
    "print(X_data_train)\n",
    "print(\"X has a shape of {}\".format(X_data_train.shape))"
   ]
  },
  {
   "cell_type": "markdown",
   "metadata": {},
   "source": [
    "Let the model learn."
   ]
  },
  {
   "cell_type": "code",
   "execution_count": 9,
   "metadata": {},
   "outputs": [],
   "source": [
    "def model(train_X, layers_dim, learning_rate, num_iters, print_cost=True):\n",
    "    \"\"\" Train the DNN with the provided training data \"\"\"\n",
    "\n",
    "    tf.reset_default_graph()  # Reset DNN\n",
    "    (num_input, t_length) = train_X.shape\n",
    "    costs = []  # Keep track of the cost\n",
    "    \n",
    "    # Create placeholder\n",
    "    X = create_placeholders(num_input)\n",
    "    print(X)\n",
    "    # Initialize parameters\n",
    "    parameters = initialize_parameters(layers_dim)\n",
    "    \n",
    "    # One step of the forward propagation\n",
    "    A3 = forward_propagation(X, parameters)\n",
    "    # Compute the current cost\n",
    "    cost = compute_cost(A3, parameters, beta, A, alpha)\n",
    "    # Set the optimizer in the backward propagation\n",
    "    optimizer = tf.train.AdamOptimizer(learning_rate=learning_rate).minimize(\n",
    "        cost)\n",
    "    # Initialize all the variables\n",
    "    init = tf.global_variables_initializer()\n",
    "\n",
    "    # ---------------------------------------------------------------------- #\n",
    "    # Start to train DNN\n",
    "    # ---------------------------------------------------------------------- #   \n",
    "    with tf.Session() as sess:\n",
    "        sess.run(init)  # Initialization\n",
    "        for i in range(1, num_iters+1):\n",
    "            _, _cost = sess.run([optimizer, cost], feed_dict={X: train_X})\n",
    "            costs.append(_cost)\n",
    "\n",
    "            # Print the cost every epoch\n",
    "            if print_cost is True and i % 100 == 0:\n",
    "                print(r'Cost after iteration {} is {:5f}'.format(i, _cost))\n",
    "                \n",
    "        # Save the parameters in a variable\n",
    "        parameters = sess.run(parameters)\n",
    "        print(\"Parameters have been trained\")\n",
    "        \n",
    "        return costs, parameters"
   ]
  },
  {
   "cell_type": "markdown",
   "metadata": {},
   "source": [
    "Train the DNN with the following set"
   ]
  },
  {
   "cell_type": "code",
   "execution_count": 10,
   "metadata": {},
   "outputs": [
    {
     "name": "stdout",
     "output_type": "stream",
     "text": [
      "Tensor(\"X:0\", shape=(1, ?), dtype=float32)\n",
      "\n",
      "WARNING: The TensorFlow contrib module will not be included in TensorFlow 2.0.\n",
      "For more information, please see:\n",
      "  * https://github.com/tensorflow/community/blob/master/rfcs/20180907-contrib-sunset.md\n",
      "  * https://github.com/tensorflow/addons\n",
      "If you depend on functionality not listed there, please file an issue.\n",
      "\n",
      "WARNING:tensorflow:From /home/takafumi/.pyenv/versions/anaconda3-5.3.1/envs/tensor1/lib/python3.7/site-packages/tensorflow/python/framework/op_def_library.py:263: colocate_with (from tensorflow.python.framework.ops) is deprecated and will be removed in a future version.\n",
      "Instructions for updating:\n",
      "Colocations handled automatically by placer.\n",
      "Currnet X is Tensor(\"X:0\", shape=(1, ?), dtype=float32)\n",
      "Currnet X is Tensor(\"Softplus:0\", shape=(2, ?), dtype=float32)\n"
     ]
    },
    {
     "ename": "ValueError",
     "evalue": "Dimensions must be equal, but are 1 and 2 for 'MatMul_3' (op: 'MatMul') with input shapes: [50,1], [2,?].",
     "output_type": "error",
     "traceback": [
      "\u001b[0;31m---------------------------------------------------------------------------\u001b[0m",
      "\u001b[0;31mInvalidArgumentError\u001b[0m                      Traceback (most recent call last)",
      "\u001b[0;32m~/.pyenv/versions/anaconda3-5.3.1/envs/tensor1/lib/python3.7/site-packages/tensorflow/python/framework/ops.py\u001b[0m in \u001b[0;36m_create_c_op\u001b[0;34m(graph, node_def, inputs, control_inputs)\u001b[0m\n\u001b[1;32m   1658\u001b[0m   \u001b[0;32mtry\u001b[0m\u001b[0;34m:\u001b[0m\u001b[0;34m\u001b[0m\u001b[0;34m\u001b[0m\u001b[0m\n\u001b[0;32m-> 1659\u001b[0;31m     \u001b[0mc_op\u001b[0m \u001b[0;34m=\u001b[0m \u001b[0mc_api\u001b[0m\u001b[0;34m.\u001b[0m\u001b[0mTF_FinishOperation\u001b[0m\u001b[0;34m(\u001b[0m\u001b[0mop_desc\u001b[0m\u001b[0;34m)\u001b[0m\u001b[0;34m\u001b[0m\u001b[0;34m\u001b[0m\u001b[0m\n\u001b[0m\u001b[1;32m   1660\u001b[0m   \u001b[0;32mexcept\u001b[0m \u001b[0merrors\u001b[0m\u001b[0;34m.\u001b[0m\u001b[0mInvalidArgumentError\u001b[0m \u001b[0;32mas\u001b[0m \u001b[0me\u001b[0m\u001b[0;34m:\u001b[0m\u001b[0;34m\u001b[0m\u001b[0;34m\u001b[0m\u001b[0m\n",
      "\u001b[0;31mInvalidArgumentError\u001b[0m: Dimensions must be equal, but are 1 and 2 for 'MatMul_3' (op: 'MatMul') with input shapes: [50,1], [2,?].",
      "\nDuring handling of the above exception, another exception occurred:\n",
      "\u001b[0;31mValueError\u001b[0m                                Traceback (most recent call last)",
      "\u001b[0;32m<ipython-input-10-e92b4dccffc6>\u001b[0m in \u001b[0;36m<module>\u001b[0;34m\u001b[0m\n\u001b[1;32m      4\u001b[0m costs, parameters_star = model(\n\u001b[1;32m      5\u001b[0m     \u001b[0mX_data_train\u001b[0m\u001b[0;34m,\u001b[0m \u001b[0mlayers_dim\u001b[0m\u001b[0;34m,\u001b[0m \u001b[0mlearning_rate\u001b[0m\u001b[0;34m=\u001b[0m\u001b[0mlearning_rate\u001b[0m\u001b[0;34m,\u001b[0m\u001b[0;34m\u001b[0m\u001b[0;34m\u001b[0m\u001b[0m\n\u001b[0;32m----> 6\u001b[0;31m     num_iters=num_iters, print_cost=True)\n\u001b[0m",
      "\u001b[0;32m<ipython-input-9-838d3be6ad0f>\u001b[0m in \u001b[0;36mmodel\u001b[0;34m(train_X, layers_dim, learning_rate, num_iters, print_cost)\u001b[0m\n\u001b[1;32m     15\u001b[0m     \u001b[0mA3\u001b[0m \u001b[0;34m=\u001b[0m \u001b[0mforward_propagation\u001b[0m\u001b[0;34m(\u001b[0m\u001b[0mX\u001b[0m\u001b[0;34m,\u001b[0m \u001b[0mparameters\u001b[0m\u001b[0;34m)\u001b[0m\u001b[0;34m\u001b[0m\u001b[0;34m\u001b[0m\u001b[0m\n\u001b[1;32m     16\u001b[0m     \u001b[0;31m# Compute the current cost\u001b[0m\u001b[0;34m\u001b[0m\u001b[0;34m\u001b[0m\u001b[0;34m\u001b[0m\u001b[0m\n\u001b[0;32m---> 17\u001b[0;31m     \u001b[0mcost\u001b[0m \u001b[0;34m=\u001b[0m \u001b[0mcompute_cost\u001b[0m\u001b[0;34m(\u001b[0m\u001b[0mA3\u001b[0m\u001b[0;34m,\u001b[0m \u001b[0mparameters\u001b[0m\u001b[0;34m,\u001b[0m \u001b[0mbeta\u001b[0m\u001b[0;34m,\u001b[0m \u001b[0mA\u001b[0m\u001b[0;34m,\u001b[0m \u001b[0malpha\u001b[0m\u001b[0;34m)\u001b[0m\u001b[0;34m\u001b[0m\u001b[0;34m\u001b[0m\u001b[0m\n\u001b[0m\u001b[1;32m     18\u001b[0m     \u001b[0;31m# Set the optimizer in the backward propagation\u001b[0m\u001b[0;34m\u001b[0m\u001b[0;34m\u001b[0m\u001b[0;34m\u001b[0m\u001b[0m\n\u001b[1;32m     19\u001b[0m     optimizer = tf.train.AdamOptimizer(learning_rate=learning_rate).minimize(\n",
      "\u001b[0;32m<ipython-input-7-378c9b6d6dc3>\u001b[0m in \u001b[0;36mcompute_cost\u001b[0;34m(X, parameters, beta, A, alpha)\u001b[0m\n\u001b[1;32m      6\u001b[0m \u001b[0;34m\u001b[0m\u001b[0m\n\u001b[1;32m      7\u001b[0m     \u001b[0;31m# Retlieve the simulation path\u001b[0m\u001b[0;34m\u001b[0m\u001b[0;34m\u001b[0m\u001b[0;34m\u001b[0m\u001b[0m\n\u001b[0;32m----> 8\u001b[0;31m     \u001b[0maction\u001b[0m \u001b[0;34m=\u001b[0m \u001b[0mforward_propagation\u001b[0m\u001b[0;34m(\u001b[0m\u001b[0mX\u001b[0m\u001b[0;34m,\u001b[0m \u001b[0mparameters\u001b[0m\u001b[0;34m)\u001b[0m\u001b[0;34m\u001b[0m\u001b[0;34m\u001b[0m\u001b[0m\n\u001b[0m\u001b[1;32m      9\u001b[0m     \u001b[0;31m# print(action)\u001b[0m\u001b[0;34m\u001b[0m\u001b[0;34m\u001b[0m\u001b[0;34m\u001b[0m\u001b[0m\n\u001b[1;32m     10\u001b[0m     \u001b[0mk_plus\u001b[0m \u001b[0;34m=\u001b[0m \u001b[0mtf\u001b[0m\u001b[0;34m.\u001b[0m\u001b[0mexpand_dims\u001b[0m\u001b[0;34m(\u001b[0m\u001b[0maction\u001b[0m\u001b[0;34m[\u001b[0m\u001b[0;36m0\u001b[0m\u001b[0;34m,\u001b[0m \u001b[0;34m:\u001b[0m\u001b[0;34m]\u001b[0m\u001b[0;34m,\u001b[0m \u001b[0maxis\u001b[0m\u001b[0;34m=\u001b[0m\u001b[0;36m0\u001b[0m\u001b[0;34m)\u001b[0m\u001b[0;34m\u001b[0m\u001b[0;34m\u001b[0m\u001b[0m\n",
      "\u001b[0;32m<ipython-input-6-80d9e5481f71>\u001b[0m in \u001b[0;36mforward_propagation\u001b[0;34m(X, parameters)\u001b[0m\n\u001b[1;32m     12\u001b[0m     \u001b[0mprint\u001b[0m\u001b[0;34m(\u001b[0m\u001b[0;34m\"Currnet X is {}\"\u001b[0m\u001b[0;34m.\u001b[0m\u001b[0mformat\u001b[0m\u001b[0;34m(\u001b[0m\u001b[0mX\u001b[0m\u001b[0;34m)\u001b[0m\u001b[0;34m)\u001b[0m\u001b[0;34m\u001b[0m\u001b[0;34m\u001b[0m\u001b[0m\n\u001b[1;32m     13\u001b[0m \u001b[0;34m\u001b[0m\u001b[0m\n\u001b[0;32m---> 14\u001b[0;31m     \u001b[0mZ1\u001b[0m \u001b[0;34m=\u001b[0m \u001b[0mtf\u001b[0m\u001b[0;34m.\u001b[0m\u001b[0madd\u001b[0m\u001b[0;34m(\u001b[0m\u001b[0mtf\u001b[0m\u001b[0;34m.\u001b[0m\u001b[0mmatmul\u001b[0m\u001b[0;34m(\u001b[0m\u001b[0mW1\u001b[0m\u001b[0;34m,\u001b[0m \u001b[0mX\u001b[0m\u001b[0;34m)\u001b[0m\u001b[0;34m,\u001b[0m \u001b[0mb1\u001b[0m\u001b[0;34m)\u001b[0m  \u001b[0;31m# Linear combination\u001b[0m\u001b[0;34m\u001b[0m\u001b[0;34m\u001b[0m\u001b[0m\n\u001b[0m\u001b[1;32m     15\u001b[0m     \u001b[0mA1\u001b[0m \u001b[0;34m=\u001b[0m \u001b[0mtf\u001b[0m\u001b[0;34m.\u001b[0m\u001b[0mnn\u001b[0m\u001b[0;34m.\u001b[0m\u001b[0mrelu\u001b[0m\u001b[0;34m(\u001b[0m\u001b[0mZ1\u001b[0m\u001b[0;34m)\u001b[0m  \u001b[0;31m# Activate with Relu\u001b[0m\u001b[0;34m\u001b[0m\u001b[0;34m\u001b[0m\u001b[0m\n\u001b[1;32m     16\u001b[0m     \u001b[0mZ2\u001b[0m \u001b[0;34m=\u001b[0m \u001b[0mtf\u001b[0m\u001b[0;34m.\u001b[0m\u001b[0madd\u001b[0m\u001b[0;34m(\u001b[0m\u001b[0mtf\u001b[0m\u001b[0;34m.\u001b[0m\u001b[0mmatmul\u001b[0m\u001b[0;34m(\u001b[0m\u001b[0mW2\u001b[0m\u001b[0;34m,\u001b[0m \u001b[0mA1\u001b[0m\u001b[0;34m)\u001b[0m\u001b[0;34m,\u001b[0m \u001b[0mb2\u001b[0m\u001b[0;34m)\u001b[0m  \u001b[0;31m# Linear combination\u001b[0m\u001b[0;34m\u001b[0m\u001b[0;34m\u001b[0m\u001b[0m\n",
      "\u001b[0;32m~/.pyenv/versions/anaconda3-5.3.1/envs/tensor1/lib/python3.7/site-packages/tensorflow/python/ops/math_ops.py\u001b[0m in \u001b[0;36mmatmul\u001b[0;34m(a, b, transpose_a, transpose_b, adjoint_a, adjoint_b, a_is_sparse, b_is_sparse, name)\u001b[0m\n\u001b[1;32m   2453\u001b[0m     \u001b[0;32melse\u001b[0m\u001b[0;34m:\u001b[0m\u001b[0;34m\u001b[0m\u001b[0;34m\u001b[0m\u001b[0m\n\u001b[1;32m   2454\u001b[0m       return gen_math_ops.mat_mul(\n\u001b[0;32m-> 2455\u001b[0;31m           a, b, transpose_a=transpose_a, transpose_b=transpose_b, name=name)\n\u001b[0m\u001b[1;32m   2456\u001b[0m \u001b[0;34m\u001b[0m\u001b[0m\n\u001b[1;32m   2457\u001b[0m \u001b[0;34m\u001b[0m\u001b[0m\n",
      "\u001b[0;32m~/.pyenv/versions/anaconda3-5.3.1/envs/tensor1/lib/python3.7/site-packages/tensorflow/python/ops/gen_math_ops.py\u001b[0m in \u001b[0;36mmat_mul\u001b[0;34m(a, b, transpose_a, transpose_b, name)\u001b[0m\n\u001b[1;32m   5331\u001b[0m   _, _, _op = _op_def_lib._apply_op_helper(\n\u001b[1;32m   5332\u001b[0m         \u001b[0;34m\"MatMul\"\u001b[0m\u001b[0;34m,\u001b[0m \u001b[0ma\u001b[0m\u001b[0;34m=\u001b[0m\u001b[0ma\u001b[0m\u001b[0;34m,\u001b[0m \u001b[0mb\u001b[0m\u001b[0;34m=\u001b[0m\u001b[0mb\u001b[0m\u001b[0;34m,\u001b[0m \u001b[0mtranspose_a\u001b[0m\u001b[0;34m=\u001b[0m\u001b[0mtranspose_a\u001b[0m\u001b[0;34m,\u001b[0m \u001b[0mtranspose_b\u001b[0m\u001b[0;34m=\u001b[0m\u001b[0mtranspose_b\u001b[0m\u001b[0;34m,\u001b[0m\u001b[0;34m\u001b[0m\u001b[0;34m\u001b[0m\u001b[0m\n\u001b[0;32m-> 5333\u001b[0;31m                   name=name)\n\u001b[0m\u001b[1;32m   5334\u001b[0m   \u001b[0m_result\u001b[0m \u001b[0;34m=\u001b[0m \u001b[0m_op\u001b[0m\u001b[0;34m.\u001b[0m\u001b[0moutputs\u001b[0m\u001b[0;34m[\u001b[0m\u001b[0;34m:\u001b[0m\u001b[0;34m]\u001b[0m\u001b[0;34m\u001b[0m\u001b[0;34m\u001b[0m\u001b[0m\n\u001b[1;32m   5335\u001b[0m   \u001b[0m_inputs_flat\u001b[0m \u001b[0;34m=\u001b[0m \u001b[0m_op\u001b[0m\u001b[0;34m.\u001b[0m\u001b[0minputs\u001b[0m\u001b[0;34m\u001b[0m\u001b[0;34m\u001b[0m\u001b[0m\n",
      "\u001b[0;32m~/.pyenv/versions/anaconda3-5.3.1/envs/tensor1/lib/python3.7/site-packages/tensorflow/python/framework/op_def_library.py\u001b[0m in \u001b[0;36m_apply_op_helper\u001b[0;34m(self, op_type_name, name, **keywords)\u001b[0m\n\u001b[1;32m    786\u001b[0m         op = g.create_op(op_type_name, inputs, output_types, name=scope,\n\u001b[1;32m    787\u001b[0m                          \u001b[0minput_types\u001b[0m\u001b[0;34m=\u001b[0m\u001b[0minput_types\u001b[0m\u001b[0;34m,\u001b[0m \u001b[0mattrs\u001b[0m\u001b[0;34m=\u001b[0m\u001b[0mattr_protos\u001b[0m\u001b[0;34m,\u001b[0m\u001b[0;34m\u001b[0m\u001b[0;34m\u001b[0m\u001b[0m\n\u001b[0;32m--> 788\u001b[0;31m                          op_def=op_def)\n\u001b[0m\u001b[1;32m    789\u001b[0m       \u001b[0;32mreturn\u001b[0m \u001b[0moutput_structure\u001b[0m\u001b[0;34m,\u001b[0m \u001b[0mop_def\u001b[0m\u001b[0;34m.\u001b[0m\u001b[0mis_stateful\u001b[0m\u001b[0;34m,\u001b[0m \u001b[0mop\u001b[0m\u001b[0;34m\u001b[0m\u001b[0;34m\u001b[0m\u001b[0m\n\u001b[1;32m    790\u001b[0m \u001b[0;34m\u001b[0m\u001b[0m\n",
      "\u001b[0;32m~/.pyenv/versions/anaconda3-5.3.1/envs/tensor1/lib/python3.7/site-packages/tensorflow/python/util/deprecation.py\u001b[0m in \u001b[0;36mnew_func\u001b[0;34m(*args, **kwargs)\u001b[0m\n\u001b[1;32m    505\u001b[0m                 \u001b[0;34m'in a future version'\u001b[0m \u001b[0;32mif\u001b[0m \u001b[0mdate\u001b[0m \u001b[0;32mis\u001b[0m \u001b[0;32mNone\u001b[0m \u001b[0;32melse\u001b[0m \u001b[0;34m(\u001b[0m\u001b[0;34m'after %s'\u001b[0m \u001b[0;34m%\u001b[0m \u001b[0mdate\u001b[0m\u001b[0;34m)\u001b[0m\u001b[0;34m,\u001b[0m\u001b[0;34m\u001b[0m\u001b[0;34m\u001b[0m\u001b[0m\n\u001b[1;32m    506\u001b[0m                 instructions)\n\u001b[0;32m--> 507\u001b[0;31m       \u001b[0;32mreturn\u001b[0m \u001b[0mfunc\u001b[0m\u001b[0;34m(\u001b[0m\u001b[0;34m*\u001b[0m\u001b[0margs\u001b[0m\u001b[0;34m,\u001b[0m \u001b[0;34m**\u001b[0m\u001b[0mkwargs\u001b[0m\u001b[0;34m)\u001b[0m\u001b[0;34m\u001b[0m\u001b[0;34m\u001b[0m\u001b[0m\n\u001b[0m\u001b[1;32m    508\u001b[0m \u001b[0;34m\u001b[0m\u001b[0m\n\u001b[1;32m    509\u001b[0m     doc = _add_deprecated_arg_notice_to_docstring(\n",
      "\u001b[0;32m~/.pyenv/versions/anaconda3-5.3.1/envs/tensor1/lib/python3.7/site-packages/tensorflow/python/framework/ops.py\u001b[0m in \u001b[0;36mcreate_op\u001b[0;34m(***failed resolving arguments***)\u001b[0m\n\u001b[1;32m   3298\u001b[0m           \u001b[0minput_types\u001b[0m\u001b[0;34m=\u001b[0m\u001b[0minput_types\u001b[0m\u001b[0;34m,\u001b[0m\u001b[0;34m\u001b[0m\u001b[0;34m\u001b[0m\u001b[0m\n\u001b[1;32m   3299\u001b[0m           \u001b[0moriginal_op\u001b[0m\u001b[0;34m=\u001b[0m\u001b[0mself\u001b[0m\u001b[0;34m.\u001b[0m\u001b[0m_default_original_op\u001b[0m\u001b[0;34m,\u001b[0m\u001b[0;34m\u001b[0m\u001b[0;34m\u001b[0m\u001b[0m\n\u001b[0;32m-> 3300\u001b[0;31m           op_def=op_def)\n\u001b[0m\u001b[1;32m   3301\u001b[0m       \u001b[0mself\u001b[0m\u001b[0;34m.\u001b[0m\u001b[0m_create_op_helper\u001b[0m\u001b[0;34m(\u001b[0m\u001b[0mret\u001b[0m\u001b[0;34m,\u001b[0m \u001b[0mcompute_device\u001b[0m\u001b[0;34m=\u001b[0m\u001b[0mcompute_device\u001b[0m\u001b[0;34m)\u001b[0m\u001b[0;34m\u001b[0m\u001b[0;34m\u001b[0m\u001b[0m\n\u001b[1;32m   3302\u001b[0m     \u001b[0;32mreturn\u001b[0m \u001b[0mret\u001b[0m\u001b[0;34m\u001b[0m\u001b[0;34m\u001b[0m\u001b[0m\n",
      "\u001b[0;32m~/.pyenv/versions/anaconda3-5.3.1/envs/tensor1/lib/python3.7/site-packages/tensorflow/python/framework/ops.py\u001b[0m in \u001b[0;36m__init__\u001b[0;34m(self, node_def, g, inputs, output_types, control_inputs, input_types, original_op, op_def)\u001b[0m\n\u001b[1;32m   1821\u001b[0m           op_def, inputs, node_def.attr)\n\u001b[1;32m   1822\u001b[0m       self._c_op = _create_c_op(self._graph, node_def, grouped_inputs,\n\u001b[0;32m-> 1823\u001b[0;31m                                 control_input_ops)\n\u001b[0m\u001b[1;32m   1824\u001b[0m \u001b[0;34m\u001b[0m\u001b[0m\n\u001b[1;32m   1825\u001b[0m     \u001b[0;31m# Initialize self._outputs.\u001b[0m\u001b[0;34m\u001b[0m\u001b[0;34m\u001b[0m\u001b[0;34m\u001b[0m\u001b[0m\n",
      "\u001b[0;32m~/.pyenv/versions/anaconda3-5.3.1/envs/tensor1/lib/python3.7/site-packages/tensorflow/python/framework/ops.py\u001b[0m in \u001b[0;36m_create_c_op\u001b[0;34m(graph, node_def, inputs, control_inputs)\u001b[0m\n\u001b[1;32m   1660\u001b[0m   \u001b[0;32mexcept\u001b[0m \u001b[0merrors\u001b[0m\u001b[0;34m.\u001b[0m\u001b[0mInvalidArgumentError\u001b[0m \u001b[0;32mas\u001b[0m \u001b[0me\u001b[0m\u001b[0;34m:\u001b[0m\u001b[0;34m\u001b[0m\u001b[0;34m\u001b[0m\u001b[0m\n\u001b[1;32m   1661\u001b[0m     \u001b[0;31m# Convert to ValueError for backwards compatibility.\u001b[0m\u001b[0;34m\u001b[0m\u001b[0;34m\u001b[0m\u001b[0;34m\u001b[0m\u001b[0m\n\u001b[0;32m-> 1662\u001b[0;31m     \u001b[0;32mraise\u001b[0m \u001b[0mValueError\u001b[0m\u001b[0;34m(\u001b[0m\u001b[0mstr\u001b[0m\u001b[0;34m(\u001b[0m\u001b[0me\u001b[0m\u001b[0;34m)\u001b[0m\u001b[0;34m)\u001b[0m\u001b[0;34m\u001b[0m\u001b[0;34m\u001b[0m\u001b[0m\n\u001b[0m\u001b[1;32m   1663\u001b[0m \u001b[0;34m\u001b[0m\u001b[0m\n\u001b[1;32m   1664\u001b[0m   \u001b[0;32mreturn\u001b[0m \u001b[0mc_op\u001b[0m\u001b[0;34m\u001b[0m\u001b[0;34m\u001b[0m\u001b[0m\n",
      "\u001b[0;31mValueError\u001b[0m: Dimensions must be equal, but are 1 and 2 for 'MatMul_3' (op: 'MatMul') with input shapes: [50,1], [2,?]."
     ]
    }
   ],
   "source": [
    "learning_rate = 0.001\n",
    "num_iters=10000\n",
    "\n",
    "costs, parameters_star = model(\n",
    "    X_data_train, layers_dim, learning_rate=learning_rate, \n",
    "    num_iters=num_iters, print_cost=True)"
   ]
  },
  {
   "cell_type": "code",
   "execution_count": null,
   "metadata": {},
   "outputs": [],
   "source": []
  }
 ],
 "metadata": {
  "kernelspec": {
   "display_name": "Python 3",
   "language": "python",
   "name": "python3"
  },
  "language_info": {
   "codemirror_mode": {
    "name": "ipython",
    "version": 3
   },
   "file_extension": ".py",
   "mimetype": "text/x-python",
   "name": "python",
   "nbconvert_exporter": "python",
   "pygments_lexer": "ipython3",
   "version": "3.7.3"
  },
  "toc": {
   "base_numbering": 1,
   "nav_menu": {},
   "number_sections": true,
   "sideBar": true,
   "skip_h1_title": false,
   "title_cell": "Table of Contents",
   "title_sidebar": "Contents",
   "toc_cell": false,
   "toc_position": {},
   "toc_section_display": true,
   "toc_window_display": false
  }
 },
 "nbformat": 4,
 "nbformat_minor": 2
}
